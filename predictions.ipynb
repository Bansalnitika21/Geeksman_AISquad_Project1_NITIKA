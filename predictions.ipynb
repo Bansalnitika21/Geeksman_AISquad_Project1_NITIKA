{
  "nbformat": 4,
  "nbformat_minor": 0,
  "metadata": {
    "colab": {
      "name": "predictions.ipynb",
      "provenance": [],
      "collapsed_sections": [],
      "toc_visible": true,
      "include_colab_link": true
    },
    "kernelspec": {
      "name": "python3",
      "display_name": "Python 3"
    },
    "accelerator": "GPU"
  },
  "cells": [
    {
      "cell_type": "markdown",
      "metadata": {
        "id": "view-in-github",
        "colab_type": "text"
      },
      "source": [
        "<a href=\"https://colab.research.google.com/github/Bansalnitika21/Geeksman_AISquad_Project1_NITIKA/blob/devil/predictions.ipynb\" target=\"_parent\"><img src=\"https://colab.research.google.com/assets/colab-badge.svg\" alt=\"Open In Colab\"/></a>"
      ]
    },
    {
      "cell_type": "markdown",
      "metadata": {
        "id": "PWploTqDZE-B",
        "colab_type": "text"
      },
      "source": [
        "# **PREDICTING THE DIFFERENCE BETWEEN AN IMAGE OF ORGANIC OR RECYCLABLE WASTE**"
      ]
    },
    {
      "cell_type": "markdown",
      "metadata": {
        "id": "7szowTUcewJx",
        "colab_type": "text"
      },
      "source": [
        "###**LINK OF GOOGLE DRIVE CONTAINING .PTH .PKL FILE PPT AND WORD FILE**"
      ]
    },
    {
      "cell_type": "code",
      "metadata": {
        "id": "L3hYNESZe8CG",
        "colab_type": "code",
        "colab": {}
      },
      "source": [
        "https://drive.google.com/drive/folders/1-AhH6lOhdDfJ5Wh-L7ET8MbnuteFBjb_?usp=sharing"
      ],
      "execution_count": null,
      "outputs": []
    },
    {
      "cell_type": "markdown",
      "metadata": {
        "id": "8mfPVw4pV1GW",
        "colab_type": "text"
      },
      "source": [
        "### **IMPORTING LIBRARIES**"
      ]
    },
    {
      "cell_type": "markdown",
      "metadata": {
        "id": "arsZdExRV7pQ",
        "colab_type": "text"
      },
      "source": [
        "RELOAD\n",
        "\n",
        "MATPLOTLIB\n",
        "\n",
        "FASTAI\n",
        "\n",
        "WARNINGS"
      ]
    },
    {
      "cell_type": "code",
      "metadata": {
        "id": "vu3aodX1PDtI",
        "colab_type": "code",
        "colab": {}
      },
      "source": [
        "%reload_ext autoreload\n",
        "%autoreload 2\n",
        "%matplotlib inline\n",
        "from fastai.vision import *\n",
        "from fastai.metrics import error_rate\n",
        "import warnings\n",
        "warnings.filterwarnings(\"ignore\", category=FutureWarning)"
      ],
      "execution_count": 11,
      "outputs": []
    },
    {
      "cell_type": "markdown",
      "metadata": {
        "id": "P_E91sCWWBBd",
        "colab_type": "text"
      },
      "source": [
        "###**PREDICTION FUNCTION**"
      ]
    },
    {
      "cell_type": "markdown",
      "metadata": {
        "id": "vLrQ0WMQWLhs",
        "colab_type": "text"
      },
      "source": [
        "WE HAVE USED THIS COMMAND LIKE THIS BECAUSE THE SIZE OF EXPORT.PKL FILE IS MORE THAN 98M, AND THE PREVIOUS METHOD WAS GIVING ERROR. BUT NOW THE LINK IS EASILY ACCESSIBLE."
      ]
    },
    {
      "cell_type": "code",
      "metadata": {
        "id": "HsyrWdfZBrQy",
        "colab_type": "code",
        "colab": {
          "base_uri": "https://localhost:8080/",
          "height": 440
        },
        "outputId": "2897f328-2b5d-4e06-8ed9-d13f81c08fd2"
      },
      "source": [
        "!wget --load-cookies /tmp/cookies.txt \"https://docs.google.com/uc?export=download&confirm=$(wget --quiet --save-cookies /tmp/cookies.txt --keep-session-cookies --no-check-certificate 'https://docs.google.com/uc?export=download&id=1--_PnjrkTkpGIUDTATk6M_vIAA3YdPrA' -O- | sed -rn 's/.*confirm=([0-9A-Za-z_]+).*/\\1\\n/p')&id=1--_PnjrkTkpGIUDTATk6M_vIAA3YdPrA\" -O \"export.pkl\" && rm -rf /tmp/cookies.txt"
      ],
      "execution_count": 22,
      "outputs": [
        {
          "output_type": "stream",
          "text": [
            "--2020-08-02 17:07:24--  https://docs.google.com/uc?export=download&confirm=eZ9Q&id=1--_PnjrkTkpGIUDTATk6M_vIAA3YdPrA\n",
            "Resolving docs.google.com (docs.google.com)... 173.194.69.113, 173.194.69.100, 173.194.69.139, ...\n",
            "Connecting to docs.google.com (docs.google.com)|173.194.69.113|:443... connected.\n",
            "HTTP request sent, awaiting response... 302 Moved Temporarily\n",
            "Location: https://doc-04-0g-docs.googleusercontent.com/docs/securesc/riitkh3enfa6ipp11cgequo0gu2mt6dn/gfe12e9aa6rs8joviam1o3309sf6uucm/1596387975000/03717844267886357067/06904859879464258854Z/1--_PnjrkTkpGIUDTATk6M_vIAA3YdPrA?e=download [following]\n",
            "--2020-08-02 17:07:25--  https://doc-04-0g-docs.googleusercontent.com/docs/securesc/riitkh3enfa6ipp11cgequo0gu2mt6dn/gfe12e9aa6rs8joviam1o3309sf6uucm/1596387975000/03717844267886357067/06904859879464258854Z/1--_PnjrkTkpGIUDTATk6M_vIAA3YdPrA?e=download\n",
            "Resolving doc-04-0g-docs.googleusercontent.com (doc-04-0g-docs.googleusercontent.com)... 173.194.69.132, 2a00:1450:4013:c04::84\n",
            "Connecting to doc-04-0g-docs.googleusercontent.com (doc-04-0g-docs.googleusercontent.com)|173.194.69.132|:443... connected.\n",
            "HTTP request sent, awaiting response... 302 Found\n",
            "Location: https://docs.google.com/nonceSigner?nonce=5hv3t26qiviq0&continue=https://doc-04-0g-docs.googleusercontent.com/docs/securesc/riitkh3enfa6ipp11cgequo0gu2mt6dn/gfe12e9aa6rs8joviam1o3309sf6uucm/1596387975000/03717844267886357067/06904859879464258854Z/1--_PnjrkTkpGIUDTATk6M_vIAA3YdPrA?e%3Ddownload&hash=7skub6fds5vqhk4tm44mk2ficej2sf6d [following]\n",
            "--2020-08-02 17:07:25--  https://docs.google.com/nonceSigner?nonce=5hv3t26qiviq0&continue=https://doc-04-0g-docs.googleusercontent.com/docs/securesc/riitkh3enfa6ipp11cgequo0gu2mt6dn/gfe12e9aa6rs8joviam1o3309sf6uucm/1596387975000/03717844267886357067/06904859879464258854Z/1--_PnjrkTkpGIUDTATk6M_vIAA3YdPrA?e%3Ddownload&hash=7skub6fds5vqhk4tm44mk2ficej2sf6d\n",
            "Connecting to docs.google.com (docs.google.com)|173.194.69.113|:443... connected.\n",
            "HTTP request sent, awaiting response... 302 Found\n",
            "Location: https://doc-04-0g-docs.googleusercontent.com/docs/securesc/riitkh3enfa6ipp11cgequo0gu2mt6dn/gfe12e9aa6rs8joviam1o3309sf6uucm/1596387975000/03717844267886357067/06904859879464258854Z/1--_PnjrkTkpGIUDTATk6M_vIAA3YdPrA?e=download&nonce=5hv3t26qiviq0&user=06904859879464258854Z&hash=g8m5fbojv67ed1jocgk2b15fe319d0no [following]\n",
            "--2020-08-02 17:07:25--  https://doc-04-0g-docs.googleusercontent.com/docs/securesc/riitkh3enfa6ipp11cgequo0gu2mt6dn/gfe12e9aa6rs8joviam1o3309sf6uucm/1596387975000/03717844267886357067/06904859879464258854Z/1--_PnjrkTkpGIUDTATk6M_vIAA3YdPrA?e=download&nonce=5hv3t26qiviq0&user=06904859879464258854Z&hash=g8m5fbojv67ed1jocgk2b15fe319d0no\n",
            "Connecting to doc-04-0g-docs.googleusercontent.com (doc-04-0g-docs.googleusercontent.com)|173.194.69.132|:443... connected.\n",
            "HTTP request sent, awaiting response... 200 OK\n",
            "Length: unspecified [application/x-zip]\n",
            "Saving to: ‘export.pkl’\n",
            "\n",
            "\rexport.pkl              [<=>                 ]       0  --.-KB/s               \rexport.pkl              [ <=>                ]  32.17M   161MB/s               \rexport.pkl              [  <=>               ]  97.96M   245MB/s               \rexport.pkl              [   <=>              ]  98.08M   245MB/s    in 0.4s    \n",
            "\n",
            "2020-08-02 17:07:26 (245 MB/s) - ‘export.pkl’ saved [102847807]\n",
            "\n"
          ],
          "name": "stdout"
        }
      ]
    },
    {
      "cell_type": "markdown",
      "metadata": {
        "id": "MI7UlTr6LMmz",
        "colab_type": "text"
      },
      "source": [
        "PREDICTOR FUNCTION WILL USE THE EXPORT.PKL FILE PRESENT AT CONTENT LOCATION."
      ]
    },
    {
      "cell_type": "code",
      "metadata": {
        "id": "tN79MzkRNpaR",
        "colab_type": "code",
        "colab": {
          "base_uri": "https://localhost:8080/",
          "height": 118
        },
        "outputId": "619bb03e-b1cb-4eff-f91a-c45700a8eb8a"
      },
      "source": [
        "predictor = load_learner('/content/')"
      ],
      "execution_count": 23,
      "outputs": [
        {
          "output_type": "stream",
          "text": [
            "/usr/local/lib/python3.6/dist-packages/torch/cuda/__init__.py:125: UserWarning: \n",
            "Tesla T4 with CUDA capability sm_75 is not compatible with the current PyTorch installation.\n",
            "The current PyTorch install supports CUDA capabilities sm_37 sm_50 sm_60 sm_70.\n",
            "If you want to use the Tesla T4 GPU with PyTorch, please check the instructions at https://pytorch.org/get-started/locally/\n",
            "\n",
            "  warnings.warn(incompatible_device_warn.format(device_name, capability, \" \".join(arch_list), device_name))\n"
          ],
          "name": "stderr"
        }
      ]
    },
    {
      "cell_type": "markdown",
      "metadata": {
        "id": "1hVJW9kTWZpQ",
        "colab_type": "text"
      },
      "source": [
        "DEFINING MY_PREDICTOR"
      ]
    },
    {
      "cell_type": "code",
      "metadata": {
        "id": "ebHn4gJVN15F",
        "colab_type": "code",
        "colab": {}
      },
      "source": [
        "def my_predictor(im):\n",
        "  test_img =open_image(im)\n",
        "  pred_class,pred_idx,outputs=predictor.predict(test_img)\n",
        "  return pred_class"
      ],
      "execution_count": 24,
      "outputs": []
    },
    {
      "cell_type": "markdown",
      "metadata": {
        "id": "kLsJiolDaq_D",
        "colab_type": "text"
      },
      "source": [
        "###**DATASET**"
      ]
    },
    {
      "cell_type": "markdown",
      "metadata": {
        "id": "NE8PkiMRbATM",
        "colab_type": "text"
      },
      "source": [
        "UPLOADING KAGGLE.JSON FILE"
      ]
    },
    {
      "cell_type": "code",
      "metadata": {
        "id": "0x8IA8LANpfh",
        "colab_type": "code",
        "colab": {
          "resources": {
            "http://localhost:8080/nbextensions/google.colab/files.js": {
              "data": "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",
              "ok": true,
              "headers": [
                [
                  "content-type",
                  "application/javascript"
                ]
              ],
              "status": 200,
              "status_text": "OK"
            }
          },
          "base_uri": "https://localhost:8080/",
          "height": 73
        },
        "outputId": "6113289d-01fb-4c70-e4ba-9adced960960"
      },
      "source": [
        "from google.colab import files\n",
        "my_file=files.upload()"
      ],
      "execution_count": null,
      "outputs": [
        {
          "output_type": "display_data",
          "data": {
            "text/html": [
              "\n",
              "     <input type=\"file\" id=\"files-da2b659d-8f07-4725-96e7-613b25e56cc3\" name=\"files[]\" multiple disabled\n",
              "        style=\"border:none\" />\n",
              "     <output id=\"result-da2b659d-8f07-4725-96e7-613b25e56cc3\">\n",
              "      Upload widget is only available when the cell has been executed in the\n",
              "      current browser session. Please rerun this cell to enable.\n",
              "      </output>\n",
              "      <script src=\"/nbextensions/google.colab/files.js\"></script> "
            ],
            "text/plain": [
              "<IPython.core.display.HTML object>"
            ]
          },
          "metadata": {
            "tags": []
          }
        },
        {
          "output_type": "stream",
          "text": [
            "Saving kaggle.json to kaggle (1).json\n"
          ],
          "name": "stdout"
        }
      ]
    },
    {
      "cell_type": "markdown",
      "metadata": {
        "id": "YpORfcVIbFi4",
        "colab_type": "text"
      },
      "source": [
        "IMPORTING OS, PANDAS AND SETTING THE ENVIRONMENT VARIABLE"
      ]
    },
    {
      "cell_type": "code",
      "metadata": {
        "id": "mUNvoWsbNuVe",
        "colab_type": "code",
        "colab": {}
      },
      "source": [
        "import os\n",
        "import pandas as pd\n",
        "cred = pd.read_json(\"kaggle.json\",lines=True)\n",
        "os.environ['KAGGLE_USERNAME'] = cred.iloc[0][0]\n",
        "os.environ['KAGGLE_KEY'] = cred.iloc[0][1]"
      ],
      "execution_count": null,
      "outputs": []
    },
    {
      "cell_type": "markdown",
      "metadata": {
        "id": "8Bawb88hbOeI",
        "colab_type": "text"
      },
      "source": [
        "###**.ZIP FILE**"
      ]
    },
    {
      "cell_type": "markdown",
      "metadata": {
        "id": "QAzcr52gbTsd",
        "colab_type": "text"
      },
      "source": [
        "THIS WILL DOWNLOAD A .ZIP FILE AT CONTENT LOCATION"
      ]
    },
    {
      "cell_type": "code",
      "metadata": {
        "id": "H0drUpXFN38U",
        "colab_type": "code",
        "colab": {
          "base_uri": "https://localhost:8080/",
          "height": 34
        },
        "outputId": "e6a28c1f-ded1-49b0-8200-17ffda12a886"
      },
      "source": [
        "!kaggle datasets download -d bansalnitika21/dataset"
      ],
      "execution_count": null,
      "outputs": [
        {
          "output_type": "stream",
          "text": [
            "dataset.zip: Skipping, found more recently modified local copy (use --force to force download)\n"
          ],
          "name": "stdout"
        }
      ]
    },
    {
      "cell_type": "markdown",
      "metadata": {
        "id": "mA2BRe6wboNP",
        "colab_type": "text"
      },
      "source": [
        "THIS WILL UNZIP THE .ZIP FILE, DOWNLOADED USING API COMMAND\n",
        "\n"
      ]
    },
    {
      "cell_type": "code",
      "metadata": {
        "id": "KcYjQTW2N7Dm",
        "colab_type": "code",
        "colab": {}
      },
      "source": [
        "!unzip \"*.zip\""
      ],
      "execution_count": null,
      "outputs": []
    },
    {
      "cell_type": "markdown",
      "metadata": {
        "id": "2d1sTuCOTrtJ",
        "colab_type": "text"
      },
      "source": [
        "###**SETTING LOCATION OF IMAGES**"
      ]
    },
    {
      "cell_type": "markdown",
      "metadata": {
        "id": "mfQVh3EDWiFM",
        "colab_type": "text"
      },
      "source": [
        "YOU CAN REPLACE **R** WITH **O** SO THAT YOU CAN ACCESS ORGANIC AND RECYCLABLE FOLDERS\n",
        "\n",
        "OS.LISTDIR IS USED TO SHOW THAT THERE ARE TWO FOLDER AT LOCATION TEST"
      ]
    },
    {
      "cell_type": "code",
      "metadata": {
        "id": "0VEdjSWYN5iU",
        "colab_type": "code",
        "colab": {
          "base_uri": "https://localhost:8080/",
          "height": 34
        },
        "outputId": "f1c43bab-a634-4501-ea18-4417626b07d1"
      },
      "source": [
        "all_test_images=os.listdir(\"/content/waste-classification-data/DATASET/TEST/R/\")\n",
        "os.listdir(\"/content/waste-classification-data/DATASET/TEST/\")"
      ],
      "execution_count": null,
      "outputs": [
        {
          "output_type": "execute_result",
          "data": {
            "text/plain": [
              "['R', 'O']"
            ]
          },
          "metadata": {
            "tags": []
          },
          "execution_count": 44
        }
      ]
    },
    {
      "cell_type": "markdown",
      "metadata": {
        "id": "uWAvENJrW7Nm",
        "colab_type": "text"
      },
      "source": [
        "YOU CAN CHANGE THE VALUE OF IDX TO 1 TO ACCESS THE ORGANIC **O** FOLDER \n",
        "\n",
        "USIND IDX AS 0 YOU WILL GET ALL THE IMAGES FROM RECYCLABLE **R** FOLDER"
      ]
    },
    {
      "cell_type": "code",
      "metadata": {
        "id": "LfuwJiCRN9OJ",
        "colab_type": "code",
        "colab": {
          "base_uri": "https://localhost:8080/",
          "height": 211
        },
        "outputId": "e6820a31-255e-4abb-fb3f-58036077814f"
      },
      "source": [
        "idx=0\n",
        "print(my_predictor(\"/content/waste-classification-data/DATASET/TEST/R/\"+all_test_images[idx]))\n",
        "img = open_image(\"/content/waste-classification-data/DATASET/TEST/R/\"+all_test_images[idx])\n",
        "img.show()"
      ],
      "execution_count": null,
      "outputs": [
        {
          "output_type": "stream",
          "text": [
            "R\n"
          ],
          "name": "stdout"
        },
        {
          "output_type": "display_data",
          "data": {
            "image/png": "[encoded data removed]",
            "text/plain": [
              "<Figure size 216x216 with 1 Axes>"
            ]
          },
          "metadata": {
            "tags": [],
            "needs_background": "light"
          }
        }
      ]
    },
    {
      "cell_type": "markdown",
      "metadata": {
        "id": "8ubjNjU5XQxH",
        "colab_type": "text"
      },
      "source": [
        "### **CREATING FOLDER AND STORING IMAGES**"
      ]
    },
    {
      "cell_type": "markdown",
      "metadata": {
        "id": "8SRd9f0OXVF6",
        "colab_type": "text"
      },
      "source": [
        "YOU CAN REPLACE **R** WITH **O**\n",
        "\n",
        "AND REPLACE TEST_RESULT1 WITH TEST_RESULT TO AVOID OVERWRITTING"
      ]
    },
    {
      "cell_type": "code",
      "metadata": {
        "id": "ubTz8S0MOCBA",
        "colab_type": "code",
        "colab": {}
      },
      "source": [
        "import cv2\n",
        "test_files=os.listdir(\"/content/waste-classification-data/DATASET/TEST/R/\")\n",
        "os.makedirs(\"test_result1\",exist_ok=True)\n",
        "i=0\n",
        "for test_file in test_files:\n",
        "  img=cv2.imread(\"/content/waste-classification-data/DATASET/TEST/R/\"+test_file)\n",
        "  cv2.imwrite(\"temp.jpg\",img)\n",
        "  ans_text=my_predictor(\"temp.jpg\")\n",
        "  font = cv2.FONT_HERSHEY_SIMPLEX \n",
        "  i+=1\n",
        "  org = (0, 50) \n",
        "  fontScale = 2\n",
        "  color = (255, 0, 0) \n",
        "  thickness = 4\n",
        "  img = cv2.putText(img, str(ans_text), org, font,fontScale, color, thickness, cv2.LINE_AA) \n",
        "  cv2.imwrite(\"test_result1/\"+str(i)+\".jpg\", img)"
      ],
      "execution_count": null,
      "outputs": []
    },
    {
      "cell_type": "markdown",
      "metadata": {
        "id": "X2T8cs3oVZKq",
        "colab_type": "text"
      },
      "source": [
        "###**CREATING VIDEO**"
      ]
    },
    {
      "cell_type": "markdown",
      "metadata": {
        "id": "6OV9VsvlXmEr",
        "colab_type": "text"
      },
      "source": [
        "THIS CELL WILL CREATE A MY_FINAL_OUTPUTR OR MY_FINAL_OUTPUTO FILE AT CONTENT LOCATION\n",
        "\n",
        "**NOTE**: YOU HAVE TO CHANGE **R** TO **O** AND TEST_RESULT1 TO TEST_RESULT"
      ]
    },
    {
      "cell_type": "code",
      "metadata": {
        "id": "rq5ELCY2OFXw",
        "colab_type": "code",
        "colab": {
          "base_uri": "https://localhost:8080/",
          "height": 1000
        },
        "outputId": "054d2939-c5f0-49e3-dec9-156f28f79053"
      },
      "source": [
        "%cd \"test_result1\"\n",
        "!ffmpeg -framerate 1 -pattern_type glob -i '*.jpg' \\-c:v libx264 -r 1 -pix_fmt yuv422p ../my_final_outputR.mp4\n",
        "%cd .."
      ],
      "execution_count": null,
      "outputs": [
        {
          "output_type": "stream",
          "text": [
            "/content/test_result\n",
            "ffmpeg version 3.4.8-0ubuntu0.2 Copyright (c) 2000-2020 the FFmpeg developers\n",
            "  built with gcc 7 (Ubuntu 7.5.0-3ubuntu1~18.04)\n",
            "  configuration: --prefix=/usr --extra-version=0ubuntu0.2 --toolchain=hardened --libdir=/usr/lib/x86_64-linux-gnu --incdir=/usr/include/x86_64-linux-gnu --enable-gpl --disable-stripping --enable-avresample --enable-avisynth --enable-gnutls --enable-ladspa --enable-libass --enable-libbluray --enable-libbs2b --enable-libcaca --enable-libcdio --enable-libflite --enable-libfontconfig --enable-libfreetype --enable-libfribidi --enable-libgme --enable-libgsm --enable-libmp3lame --enable-libmysofa --enable-libopenjpeg --enable-libopenmpt --enable-libopus --enable-libpulse --enable-librubberband --enable-librsvg --enable-libshine --enable-libsnappy --enable-libsoxr --enable-libspeex --enable-libssh --enable-libtheora --enable-libtwolame --enable-libvorbis --enable-libvpx --enable-libwavpack --enable-libwebp --enable-libx265 --enable-libxml2 --enable-libxvid --enable-libzmq --enable-libzvbi --enable-omx --enable-openal --enable-opengl --enable-sdl2 --enable-libdc1394 --enable-libdrm --enable-libiec61883 --enable-chromaprint --enable-frei0r --enable-libopencv --enable-libx264 --enable-shared\n",
            "  libavutil      55. 78.100 / 55. 78.100\n",
            "  libavcodec     57.107.100 / 57.107.100\n",
            "  libavformat    57. 83.100 / 57. 83.100\n",
            "  libavdevice    57. 10.100 / 57. 10.100\n",
            "  libavfilter     6.107.100 /  6.107.100\n",
            "  libavresample   3.  7.  0 /  3.  7.  0\n",
            "  libswscale      4.  8.100 /  4.  8.100\n",
            "  libswresample   2.  9.100 /  2.  9.100\n",
            "  libpostproc    54.  7.100 / 54.  7.100\n",
            "Input #0, image2, from '*.jpg':\n",
            "  Duration: 00:23:21.00, start: 0.000000, bitrate: N/A\n",
            "    Stream #0:0: Video: mjpeg, yuvj420p(pc, bt470bg/unknown/unknown), 224x225 [SAR 1:1 DAR 224:225], 1 fps, 1 tbr, 1 tbn, 1 tbc\n",
            "File '../my_final_outputR.mp4' already exists. Overwrite ? [y/N] Y\n",
            "Stream mapping:\n",
            "  Stream #0:0 -> #0:0 (mjpeg (native) -> h264 (libx264))\n",
            "Press [q] to stop, [?] for help\n",
            "\u001b[1;34m[swscaler @ 0x556f64b38000] \u001b[0m\u001b[0;33mdeprecated pixel format used, make sure you did set range correctly\n",
            "\u001b[0m\u001b[1;36m[libx264 @ 0x556f64a57e00] \u001b[0musing SAR=1/1\n",
            "\u001b[1;36m[libx264 @ 0x556f64a57e00] \u001b[0musing cpu capabilities: MMX2 SSE2Fast SSSE3 SSE4.2 AVX FMA3 BMI2 AVX2\n",
            "\u001b[1;36m[libx264 @ 0x556f64a57e00] \u001b[0mprofile High 4:2:2, level 1.1, 4:2:2 8-bit\n",
            "\u001b[1;36m[libx264 @ 0x556f64a57e00] \u001b[0m264 - core 152 r2854 e9a5903 - H.264/MPEG-4 AVC codec - Copyleft 2003-2017 - http://www.videolan.org/x264.html - options: cabac=1 ref=3 deblock=1:0:0 analyse=0x3:0x113 me=hex subme=7 psy=1 psy_rd=1.00:0.00 mixed_ref=1 me_range=16 chroma_me=1 trellis=1 8x8dct=1 cqm=0 deadzone=21,11 fast_pskip=1 chroma_qp_offset=-2 threads=3 lookahead_threads=1 sliced_threads=0 nr=0 decimate=1 interlaced=0 bluray_compat=0 constrained_intra=0 bframes=3 b_pyramid=2 b_adapt=1 b_bias=0 direct=1 weightb=1 open_gop=0 weightp=2 keyint=250 keyint_min=1 scenecut=40 intra_refresh=0 rc_lookahead=40 rc=crf mbtree=1 crf=23.0 qcomp=0.60 qpmin=0 qpmax=69 qpstep=4 ip_ratio=1.40 aq=1:1.00\n",
            "Output #0, mp4, to '../my_final_outputR.mp4':\n",
            "  Metadata:\n",
            "    encoder         : Lavf57.83.100\n",
            "    Stream #0:0: Video: h264 (libx264) (avc1 / 0x31637661), yuv422p, 224x225 [SAR 1:1 DAR 224:225], q=-1--1, 1 fps, 16384 tbn, 1 tbc\n",
            "    Metadata:\n",
            "      encoder         : Lavc57.107.100 libx264\n",
            "    Side data:\n",
            "      cpb: bitrate max/min/avg: 0/0/0 buffer size: 0 vbv_delay: -1\n",
            "\u001b[1;34m[swscaler @ 0x556f64b38000] \u001b[0m\u001b[0;33mdeprecated pixel format used, make sure you did set range correctly\n",
            "    Last message repeated 72 times\n",
            "\u001b[1;34m[swscaler @ 0x556f64b38000] \u001b[0m\u001b[0;33mdeprecated pixel format used, make sure you did set range correctly\n",
            "    Last message repeated 33 times\n",
            "\u001b[1;34m[swscaler @ 0x556f64b38000] \u001b[0m\u001b[0;33mdeprecated pixel format used, make sure you did set range correctly\n",
            "    Last message repeated 40 times\n",
            "\u001b[1;34m[swscaler @ 0x556f64b38000] \u001b[0m\u001b[0;33mdeprecated pixel format used, make sure you did set range correctly\n",
            "    Last message repeated 33 times\n",
            "\u001b[1;34m[swscaler @ 0x556f64b38000] \u001b[0m\u001b[0;33mdeprecated pixel format used, make sure you did set range correctly\n",
            "    Last message repeated 33 times\n",
            "\u001b[1;34m[swscaler @ 0x556f64b38000] \u001b[0m\u001b[0;33mdeprecated pixel format used, make sure you did set range correctly\n",
            "    Last message repeated 30 times\n",
            "\u001b[1;34m[swscaler @ 0x556f64b38000] \u001b[0m\u001b[0;33mdeprecated pixel format used, make sure you did set range correctly\n",
            "    Last message repeated 33 times\n",
            "\u001b[1;34m[swscaler @ 0x556f64b38000] \u001b[0m\u001b[0;33mdeprecated pixel format used, make sure you did set range correctly\n",
            "    Last message repeated 30 times\n",
            "\u001b[1;34m[swscaler @ 0x556f64b38000] \u001b[0m\u001b[0;33mdeprecated pixel format used, make sure you did set range correctly\n",
            "    Last message repeated 34 times\n",
            "\u001b[1;34m[swscaler @ 0x556f64b38000] \u001b[0m\u001b[0;33mdeprecated pixel format used, make sure you did set range correctly\n",
            "    Last message repeated 30 times\n",
            "\u001b[1;34m[swscaler @ 0x556f64b38000] \u001b[0m\u001b[0;33mdeprecated pixel format used, make sure you did set range correctly\n",
            "    Last message repeated 34 times\n",
            "\u001b[1;34m[swscaler @ 0x556f64b38000] \u001b[0m\u001b[0;33mdeprecated pixel format used, make sure you did set range correctly\n",
            "    Last message repeated 28 times\n",
            "\u001b[1;34m[swscaler @ 0x556f64b38000] \u001b[0m\u001b[0;33mdeprecated pixel format used, make sure you did set range correctly\n",
            "    Last message repeated 29 times\n",
            "\u001b[1;34m[swscaler @ 0x556f64b38000] \u001b[0m\u001b[0;33mdeprecated pixel format used, make sure you did set range correctly\n",
            "    Last message repeated 31 times\n",
            "\u001b[1;34m[swscaler @ 0x556f64b38000] \u001b[0m\u001b[0;33mdeprecated pixel format used, make sure you did set range correctly\n",
            "    Last message repeated 38 times\n",
            "\u001b[1;34m[swscaler @ 0x556f64b38000] \u001b[0m\u001b[0;33mdeprecated pixel format used, make sure you did set range correctly\n",
            "    Last message repeated 39 times\n",
            "\u001b[1;34m[swscaler @ 0x556f64b38000] \u001b[0m\u001b[0;33mdeprecated pixel format used, make sure you did set range correctly\n",
            "    Last message repeated 33 times\n",
            "\u001b[1;34m[swscaler @ 0x556f64b38000] \u001b[0m\u001b[0;33mdeprecated pixel format used, make sure you did set range correctly\n",
            "    Last message repeated 29 times\n",
            "\u001b[1;34m[swscaler @ 0x556f64b38000] \u001b[0m\u001b[0;33mdeprecated pixel format used, make sure you did set range correctly\n",
            "    Last message repeated 35 times\n",
            "\u001b[1;34m[swscaler @ 0x556f64b38000] \u001b[0m\u001b[0;33mdeprecated pixel format used, make sure you did set range correctly\n",
            "    Last message repeated 33 times\n",
            "\u001b[1;34m[swscaler @ 0x556f64b38000] \u001b[0m\u001b[0;33mdeprecated pixel format used, make sure you did set range correctly\n",
            "    Last message repeated 36 times\n",
            "\u001b[1;34m[swscaler @ 0x556f64b38000] \u001b[0m\u001b[0;33mdeprecated pixel format used, make sure you did set range correctly\n",
            "    Last message repeated 33 times\n",
            "\u001b[1;34m[swscaler @ 0x556f64b38000] \u001b[0m\u001b[0;33mdeprecated pixel format used, make sure you did set range correctly\n",
            "    Last message repeated 29 times\n",
            "\u001b[1;34m[swscaler @ 0x556f64b38000] \u001b[0m\u001b[0;33mdeprecated pixel format used, make sure you did set range correctly\n",
            "    Last message repeated 28 times\n",
            "\u001b[1;34m[swscaler @ 0x556f64b38000] \u001b[0m\u001b[0;33mdeprecated pixel format used, make sure you did set range correctly\n",
            "    Last message repeated 36 times\n",
            "\u001b[1;34m[swscaler @ 0x556f64b38000] \u001b[0m\u001b[0;33mdeprecated pixel format used, make sure you did set range correctly\n",
            "    Last message repeated 30 times\n",
            "\u001b[1;34m[swscaler @ 0x556f64b38000] \u001b[0m\u001b[0;33mdeprecated pixel format used, make sure you did set range correctly\n",
            "    Last message repeated 37 times\n",
            "\u001b[1;34m[swscaler @ 0x556f64b38000] \u001b[0m\u001b[0;33mdeprecated pixel format used, make sure you did set range correctly\n",
            "    Last message repeated 36 times\n",
            "\u001b[1;34m[swscaler @ 0x556f64b38000] \u001b[0m\u001b[0;33mdeprecated pixel format used, make sure you did set range correctly\n",
            "    Last message repeated 29 times\n",
            "\u001b[1;34m[swscaler @ 0x556f64b38000] \u001b[0m\u001b[0;33mdeprecated pixel format used, make sure you did set range correctly\n",
            "    Last message repeated 23 times\n",
            "\u001b[1;34m[swscaler @ 0x556f64b38000] \u001b[0m\u001b[0;33mdeprecated pixel format used, make sure you did set range correctly\n",
            "    Last message repeated 32 times\n",
            "\u001b[1;34m[swscaler @ 0x556f64b38000] \u001b[0m\u001b[0;33mdeprecated pixel format used, make sure you did set range correctly\n",
            "    Last message repeated 41 times\n",
            "\u001b[1;34m[swscaler @ 0x556f64b38000] \u001b[0m\u001b[0;33mdeprecated pixel format used, make sure you did set range correctly\n",
            "    Last message repeated 39 times\n",
            "\u001b[1;34m[swscaler @ 0x556f64b38000] \u001b[0m\u001b[0;33mdeprecated pixel format used, make sure you did set range correctly\n",
            "    Last message repeated 28 times\n",
            "frame= 1401 fps= 79 q=-1.0 Lsize=   15847kB time=00:23:18.00 bitrate=  92.9kbits/s speed=79.2x    \n",
            "video:15840kB audio:0kB subtitle:0kB other streams:0kB global headers:0kB muxing overhead: 0.042373%\n",
            "\u001b[1;36m[libx264 @ 0x556f64a57e00] \u001b[0mframe I:19    Avg QP:12.49  size: 10206\n",
            "\u001b[1;36m[libx264 @ 0x556f64a57e00] \u001b[0mframe P:1378  Avg QP:17.55  size: 11590\n",
            "\u001b[1;36m[libx264 @ 0x556f64a57e00] \u001b[0mframe B:4     Avg QP:17.86  size: 13536\n",
            "\u001b[1;36m[libx264 @ 0x556f64a57e00] \u001b[0mconsecutive B-frames: 99.4%  0.6%  0.0%  0.0%\n",
            "\u001b[1;36m[libx264 @ 0x556f64a57e00] \u001b[0mmb I  I16..4: 16.1% 51.4% 32.5%\n",
            "\u001b[1;36m[libx264 @ 0x556f64a57e00] \u001b[0mmb P  I16..4:  6.6% 49.5% 38.5%  P16..4:  1.9%  1.1%  1.0%  0.0%  0.0%    skip: 1.4%\n",
            "\u001b[1;36m[libx264 @ 0x556f64a57e00] \u001b[0mmb B  I16..4:  1.5% 19.6% 44.5%  B16..8:  8.6%  2.5%  0.5%  direct: 2.6%  skip:20.1%  L0:43.1% L1:55.6% BI: 1.3%\n",
            "\u001b[1;36m[libx264 @ 0x556f64a57e00] \u001b[0m8x8 transform intra:52.3% inter:43.3%\n",
            "\u001b[1;36m[libx264 @ 0x556f64a57e00] \u001b[0mcoded y,uvDC,uvAC intra: 80.3% 78.4% 68.6% inter: 51.5% 58.4% 53.4%\n",
            "\u001b[1;36m[libx264 @ 0x556f64a57e00] \u001b[0mi16 v,h,dc,p: 60% 19% 12%  9%\n",
            "\u001b[1;36m[libx264 @ 0x556f64a57e00] \u001b[0mi8 v,h,dc,ddl,ddr,vr,hd,vl,hu: 37% 16% 16%  4%  4%  6%  4%  6%  6%\n",
            "\u001b[1;36m[libx264 @ 0x556f64a57e00] \u001b[0mi4 v,h,dc,ddl,ddr,vr,hd,vl,hu: 37% 14%  9%  5%  7%  8%  6%  7%  6%\n",
            "\u001b[1;36m[libx264 @ 0x556f64a57e00] \u001b[0mi8c dc,h,v,p: 44% 14% 35%  8%\n",
            "\u001b[1;36m[libx264 @ 0x556f64a57e00] \u001b[0mWeighted P-Frames: Y:26.1% UV:23.7%\n",
            "\u001b[1;36m[libx264 @ 0x556f64a57e00] \u001b[0mref P L0: 24.0% 14.7% 24.9% 28.9%  7.5%\n",
            "\u001b[1;36m[libx264 @ 0x556f64a57e00] \u001b[0mref B L0: 87.3% 12.7%\n",
            "\u001b[1;36m[libx264 @ 0x556f64a57e00] \u001b[0mkb/s:92.62\n",
            "/content\n"
          ],
          "name": "stdout"
        }
      ]
    },
    {
      "cell_type": "markdown",
      "metadata": {
        "id": "4D6WfcWYX_q5",
        "colab_type": "text"
      },
      "source": [
        "### **KORA**"
      ]
    },
    {
      "cell_type": "markdown",
      "metadata": {
        "id": "e2PKOVQ_Vgn1",
        "colab_type": "text"
      },
      "source": [
        "INSTALLING KORA IN COLAB\n",
        "\n",
        "AND IMPORTING UPLOAD_PUBLIC TO GENERATE A PUBLIC LINK OF THE VIDEO GENERATED"
      ]
    },
    {
      "cell_type": "code",
      "metadata": {
        "id": "rw7xtyGyOJWi",
        "colab_type": "code",
        "colab": {
          "base_uri": "https://localhost:8080/",
          "height": 34
        },
        "outputId": "a0cf54fe-1fbd-4337-a3df-d773599f309c"
      },
      "source": [
        "!pip install -U kora\n",
        "from kora.drive import upload_public\n"
      ],
      "execution_count": null,
      "outputs": [
        {
          "output_type": "stream",
          "text": [
            "Requirement already up-to-date: kora in /usr/local/lib/python3.6/dist-packages (0.4.23)\n"
          ],
          "name": "stdout"
        }
      ]
    },
    {
      "cell_type": "markdown",
      "metadata": {
        "id": "GNrNQbVvVtZf",
        "colab_type": "text"
      },
      "source": [
        "DEFINNING URL!!"
      ]
    },
    {
      "cell_type": "code",
      "metadata": {
        "id": "Kehr2Zv_OMBV",
        "colab_type": "code",
        "colab": {}
      },
      "source": [
        "url = upload_public('my_final_outputR.mp4')"
      ],
      "execution_count": null,
      "outputs": []
    },
    {
      "cell_type": "markdown",
      "metadata": {
        "id": "KtEVleAIYqyb",
        "colab_type": "text"
      },
      "source": [
        "This cell will display the created video in colab notebook!!"
      ]
    },
    {
      "cell_type": "code",
      "metadata": {
        "id": "HhetfZYxOPw0",
        "colab_type": "code",
        "colab": {
          "base_uri": "https://localhost:8080/",
          "height": 523
        },
        "outputId": "d8770dc3-8a89-4f29-e61f-1b3fbbcdaf56"
      },
      "source": [
        "from IPython.display import HTML\n",
        "HTML(f\"\"\"<video src={url} width=500 controls/>\"\"\")"
      ],
      "execution_count": null,
      "outputs": [
        {
          "output_type": "execute_result",
          "data": {
            "text/html": [
              "<video src=https://drive.google.com/uc?id=1kPAhy3Pa3_NalqHEYnLj6WZOa6baRXdT width=500 controls/>"
            ],
            "text/plain": [
              "<IPython.core.display.HTML object>"
            ]
          },
          "metadata": {
            "tags": []
          },
          "execution_count": 55
        }
      ]
    },
    {
      "cell_type": "markdown",
      "metadata": {
        "id": "aaVGW38dYK8N",
        "colab_type": "text"
      },
      "source": [
        "YOU CAN COPY THIS LINK CREATED AND PASTE ANYWHERE AND THE VIDEO WILL BE VISIBLE AND WORKING!!!!!"
      ]
    },
    {
      "cell_type": "code",
      "metadata": {
        "id": "JOyu_yf4OSlo",
        "colab_type": "code",
        "colab": {
          "base_uri": "https://localhost:8080/",
          "height": 35
        },
        "outputId": "301d7a31-f225-4acc-ce6d-89e45a4ca386"
      },
      "source": [
        "url"
      ],
      "execution_count": null,
      "outputs": [
        {
          "output_type": "execute_result",
          "data": {
            "application/vnd.google.colaboratory.intrinsic+json": {
              "type": "string"
            },
            "text/plain": [
              "'https://drive.google.com/uc?id=1kPAhy3Pa3_NalqHEYnLj6WZOa6baRXdT'"
            ]
          },
          "metadata": {
            "tags": []
          },
          "execution_count": 51
        }
      ]
    }
  ]
}